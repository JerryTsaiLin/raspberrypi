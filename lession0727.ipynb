{
 "cells": [
  {
   "cell_type": "code",
   "execution_count": 6,
   "metadata": {},
   "outputs": [
    {
     "name": "stdout",
     "output_type": "stream",
     "text": [
      "\n",
      "A 11 5.0\n",
      "A,11,5.0\n",
      "A,11,5.0.\n"
     ]
    }
   ],
   "source": [
    "print()\n",
    "print('A',11,5.0)\n",
    "print('A',11,5.0,sep=',')\n",
    "print('A',11,5.0,sep=',',end='.\\n')"
   ]
  },
  {
   "cell_type": "code",
   "execution_count": 14,
   "metadata": {},
   "outputs": [
    {
     "name": "stdout",
     "output_type": "stream",
     "text": [
      "jerry 90 89.0\n",
      "<class 'int'>\n",
      "<class 'float'>\n",
      "<class 'str'>\n"
     ]
    }
   ],
   "source": [
    "name='jerry'\n",
    "chinese=90\n",
    "english=89.0\n",
    "print(name,chinese,english)\n",
    "type(name)\n",
    "print(type(chinese))\n",
    "print(type(english))\n",
    "print(type(name))"
   ]
  },
  {
   "cell_type": "code",
   "execution_count": 22,
   "metadata": {},
   "outputs": [
    {
     "data": {
      "text/plain": [
       "6"
      ]
     },
     "execution_count": 22,
     "metadata": {},
     "output_type": "execute_result"
    }
   ],
   "source": [
    "import random\n",
    "\n",
    "randnum=random.randint(1,10)\n",
    "\n"
   ]
  },
  {
   "cell_type": "code",
   "execution_count": 28,
   "metadata": {},
   "outputs": [
    {
     "name": "stdout",
     "output_type": "stream",
     "text": [
      "8\n",
      "243\n",
      "15\n",
      "53\n",
      "2.3333333333333335\n",
      "2\n",
      "1\n",
      "80\n"
     ]
    }
   ],
   "source": [
    "print(3+5)\n",
    "print(3**5)\n",
    "print(3*5)\n",
    "print( 3 + 5 * 10)\n",
    "print (7/3)\n",
    "print(7//3)\n",
    "print(7%3)\n",
    "print ((3 +5) * 10)"
   ]
  }
 ],
 "metadata": {
  "kernelspec": {
   "display_name": "venv1",
   "language": "python",
   "name": "python3"
  },
  "language_info": {
   "codemirror_mode": {
    "name": "ipython",
    "version": 3
   },
   "file_extension": ".py",
   "mimetype": "text/x-python",
   "name": "python",
   "nbconvert_exporter": "python",
   "pygments_lexer": "ipython3",
   "version": "3.11.9"
  }
 },
 "nbformat": 4,
 "nbformat_minor": 2
}
