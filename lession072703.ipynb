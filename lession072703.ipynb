{
 "cells": [
  {
   "cell_type": "code",
   "execution_count": 15,
   "metadata": {},
   "outputs": [
    {
     "name": "stdout",
     "output_type": "stream",
     "text": [
      "/home/pi/Documents/gitHub/raspberry0629/__main__\n",
      "/home/pi/Documents/gitHub/raspberry0629\n",
      "/home/pi/Documents/gitHub/raspberry0629/data\n",
      "目錄已建立!\n",
      "no file\n"
     ]
    }
   ],
   "source": [
    "import os.path\n",
    "\n",
    "current_path=os.path.abspath(__name__)#取得目前檔案路徑\n",
    "\n",
    "print(current_path)\n",
    "\n",
    "directory_name=os.path.dirname(current_path) #取得目前目錄名稱\n",
    "\n",
    "print(directory_name)\n",
    "\n",
    "data_path=os.path.join(directory_name,'data')#目前資料夾路徑上加上data目錄\n",
    "\n",
    "print(data_path)\n",
    "\n",
    "if not os.path.isdir(data_path):\n",
    "    print(\"沒有data的目錄,手動建立目錄\")\n",
    "    os.mkdir(data_path)\n",
    "else:\n",
    "    print(\"目錄已建立!\")    \n",
    "\n",
    "log_file=os.path.join(data_path,'iot.log')\n",
    "\n",
    "if not os.path.isfile(log_file):\n",
    "    print(\"no file\")\n",
    "    \n",
    "else:\n",
    "    print(\"have file\")\n"
   ]
  },
  {
   "cell_type": "code",
   "execution_count": null,
   "metadata": {},
   "outputs": [],
   "source": []
  }
 ],
 "metadata": {
  "kernelspec": {
   "display_name": "venv1",
   "language": "python",
   "name": "python3"
  },
  "language_info": {
   "codemirror_mode": {
    "name": "ipython",
    "version": 3
   },
   "file_extension": ".py",
   "mimetype": "text/x-python",
   "name": "python",
   "nbconvert_exporter": "python",
   "pygments_lexer": "ipython3",
   "version": "3.11.9"
  }
 },
 "nbformat": 4,
 "nbformat_minor": 2
}
