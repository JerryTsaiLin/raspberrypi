{
 "cells": [
  {
   "cell_type": "code",
   "execution_count": 18,
   "metadata": {},
   "outputs": [
    {
     "name": "stdout",
     "output_type": "stream",
     "text": [
      "/home/pi/Documents/gitHub/raspberry0629/__main__\n",
      "/home/pi/Documents/gitHub/raspberry0629\n",
      "/home/pi/Documents/gitHub/raspberry0629/data\n",
      "沒有data的目錄,手動建立目錄\n"
     ]
    }
   ],
   "source": [
    "import os.path\n",
    "\n",
    "current_path=os.path.abspath(__name__)#取得目前檔案路徑\n",
    "\n",
    "print(current_path)\n",
    "\n",
    "directory_name=os.path.dirname(current_path) #取得目前目錄名稱\n",
    "\n",
    "print(directory_name)\n",
    "\n",
    "data_path=os.path.join(directory_name,'data')#目前資料夾路徑上加上data目錄\n",
    "\n",
    "print(data_path)\n",
    "\n",
    "if not os.path.isdir(data_path):\n",
    "    print(\"沒有data的目錄,手動建立目錄\")\n",
    "    os.mkdir(data_path)\n",
    "else:\n",
    "    print(\"目錄已建立!\")    \n",
    "\n",
    "log_path=os.path.join(data_path,'iot.log')\n",
    "\n",
    "if not os.path.isfile(log_path):\n",
    "    with open(log_path,mode='w',encoding='utf-8',newline=None) as file:\n",
    "         file.write(\"時間,溼度,溫度\\n\")\n",
    "\n",
    "else:\n",
    "    print(\"have file\")\n"
   ]
  },
  {
   "cell_type": "code",
   "execution_count": 51,
   "metadata": {},
   "outputs": [],
   "source": [
    "import random\n",
    "from datetime import datetime\n",
    "now=datetime.now()\n",
    "now_str=now.strftime('%Y-%m-%d %H:%M:%S')\n",
    "\n",
    "humidity=str(random.randint(330,820)/10)\n",
    "celsius=str(random.randint(50,400)/10)\n",
    "\n",
    "with open(log_path,mode='a',encoding='utf-8', newline='') as file:\n",
    "   # file.write('2024-07-27 15:30:33, 70.5,29.5\\n')\n",
    "     file.write(now_str + ', ' + humidity + ',' + celsius + \"\\n\")"
   ]
  },
  {
   "cell_type": "code",
   "execution_count": 1,
   "metadata": {},
   "outputs": [
    {
     "name": "stdout",
     "output_type": "stream",
     "text": [
      "__main__\n"
     ]
    }
   ],
   "source": [
    "print(__name__)"
   ]
  },
  {
   "cell_type": "code",
   "execution_count": 29,
   "metadata": {},
   "outputs": [
    {
     "name": "stdout",
     "output_type": "stream",
     "text": [
      "2024\n",
      "7\n",
      "27\n",
      "15\n",
      "46\n",
      "26\n"
     ]
    }
   ],
   "source": [
    "from datetime import datetime\n",
    "datetime.today()\n",
    "now=datetime.now()\n",
    "\n",
    "\n",
    "type(now)\n",
    "print(now.year)\n",
    "print(now.month)\n",
    "print(now.day)\n",
    "print(now.hour)\n",
    "print(now.minute)\n",
    "print(now.second)\n"
   ]
  },
  {
   "cell_type": "code",
   "execution_count": 38,
   "metadata": {},
   "outputs": [
    {
     "data": {
      "text/plain": [
       "'2024-07-27 15:46:26'"
      ]
     },
     "execution_count": 38,
     "metadata": {},
     "output_type": "execute_result"
    }
   ],
   "source": [
    "now.strftime('%Y-%m-%d %H:%M:%S')"
   ]
  },
  {
   "cell_type": "code",
   "execution_count": 48,
   "metadata": {},
   "outputs": [],
   "source": [
    "import random\n",
    "humidity=str(random.randint(330,820)/10)\n",
    "celsius=str(random.randint(50,400)/10)\n"
   ]
  }
 ],
 "metadata": {
  "kernelspec": {
   "display_name": "venv1",
   "language": "python",
   "name": "python3"
  },
  "language_info": {
   "codemirror_mode": {
    "name": "ipython",
    "version": 3
   },
   "file_extension": ".py",
   "mimetype": "text/x-python",
   "name": "python",
   "nbconvert_exporter": "python",
   "pygments_lexer": "ipython3",
   "version": "3.11.9"
  }
 },
 "nbformat": 4,
 "nbformat_minor": 2
}
