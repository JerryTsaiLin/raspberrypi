{
 "cells": [
  {
   "cell_type": "code",
   "execution_count": 2,
   "metadata": {},
   "outputs": [
    {
     "name": "stdout",
     "output_type": "stream",
     "text": [
      "function1\n",
      "function2\n",
      "8\n"
     ]
    }
   ],
   "source": [
    "def fun1() :\n",
    "    print('function1')\n",
    "\n",
    "def fun2() :\n",
    "    print('function2')\n",
    "\n",
    "def add(a,b):\n",
    "    print(a+b)\n",
    "\n",
    "if __name__=='__main__':\n",
    "    fun1()\n",
    "    fun2()\n",
    "    add(5,3)\n",
    "    \n"
   ]
  }
 ],
 "metadata": {
  "kernelspec": {
   "display_name": "venv1",
   "language": "python",
   "name": "python3"
  },
  "language_info": {
   "codemirror_mode": {
    "name": "ipython",
    "version": 3
   },
   "file_extension": ".py",
   "mimetype": "text/x-python",
   "name": "python",
   "nbconvert_exporter": "python",
   "pygments_lexer": "ipython3",
   "version": "3.11.9"
  }
 },
 "nbformat": 4,
 "nbformat_minor": 2
}
